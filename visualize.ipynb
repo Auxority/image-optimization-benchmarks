{
 "cells": [
  {
   "cell_type": "code",
   "execution_count": null,
   "metadata": {},
   "outputs": [],
   "source": [
    "import os\n",
    "import seaborn as sns\n",
    "import matplotlib.pyplot as plt"
   ]
  },
  {
   "cell_type": "code",
   "execution_count": 28,
   "metadata": {},
   "outputs": [
    {
     "data": {
      "image/png": "[encoded data removed]",
      "text/plain": [
       "<Figure size 640x480 with 1 Axes>"
      ]
     },
     "metadata": {},
     "output_type": "display_data"
    }
   ],
   "source": [
    "RESULTS_DIR = './results'\n",
    "tool_results = {}\n",
    "\n",
    "# List all files in the results directory\n",
    "files = os.listdir(RESULTS_DIR)\n",
    "\n",
    "# Read each file and extract the time values for each operation\n",
    "for file in files:\n",
    "    file_path = os.path.join(RESULTS_DIR, file)\n",
    "    tool_name = os.path.splitext(file)[0]\n",
    "    if 'readme' in tool_name:\n",
    "        continue\n",
    "\n",
    "    tool_name = tool_name.replace('-results', '')\n",
    "    tool_results[tool_name] = {}\n",
    "\n",
    "    with open(file_path, 'r') as f:\n",
    "        lines = f.readlines()\n",
    "\n",
    "        # Extract time values for each operation\n",
    "        crop_times = [float(time) for time in lines[:10]]\n",
    "        compress_times = [float(time) for time in lines[10:20]]\n",
    "        resize_times = [float(time) for time in lines[20:30]]\n",
    "        convert_times = [float(time) for time in lines[30:40]]\n",
    "\n",
    "        # Store the time values in the tool_results dictionary\n",
    "        tool_results[tool_name]['crop'] = crop_times\n",
    "        tool_results[tool_name]['compress'] = compress_times\n",
    "        tool_results[tool_name]['resize'] = resize_times\n",
    "        tool_results[tool_name]['convert'] = convert_times\n",
    "\n",
    "# create a beautiful plot visualizing the results\n",
    "fig, ax = plt.subplots()\n",
    "bar_width = 0.15\n",
    "index = range(4)\n",
    "\n",
    "# use a style that is more visually appealing\n",
    "sns.set()\n",
    "\n",
    "# Define a color gradient for the bar charts\n",
    "colors = sns.color_palette('mako', len(tool_results))\n",
    "\n",
    "for i, (tool, results) in enumerate(tool_results.items()):\n",
    "    ax.bar(\n",
    "        [x + i * bar_width for x in index],\n",
    "        [sum(results['crop']) / 10, sum(results['compress']) / 10, sum(results['resize']) / 10, sum(results['convert']) / 10],\n",
    "        bar_width,\n",
    "        label=tool,\n",
    "        color=colors[i]\n",
    "    )\n",
    "\n",
    "ax.set_xlabel('Operation')\n",
    "ax.set_ylabel('Time (s)')\n",
    "ax.set_title('Average Time Taken for Each Operation')\n",
    "ax.set_xticks([x + 1.5 * bar_width for x in index])\n",
    "ax.set_xticklabels(['Crop', 'Compress', 'Resize', 'Convert'])\n",
    "ax.legend()\n",
    "\n",
    "plt.show()\n"
   ]
  }
 ],
 "metadata": {
  "kernelspec": {
   "display_name": "Python 3",
   "language": "python",
   "name": "python3"
  },
  "language_info": {
   "codemirror_mode": {
    "name": "ipython",
    "version": 3
   },
   "file_extension": ".py",
   "mimetype": "text/x-python",
   "name": "python",
   "nbconvert_exporter": "python",
   "pygments_lexer": "ipython3",
   "version": "3.11.7"
  }
 },
 "nbformat": 4,
 "nbformat_minor": 2
}
