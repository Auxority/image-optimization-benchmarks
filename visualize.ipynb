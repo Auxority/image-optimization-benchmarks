{
 "cells": [
  {
   "cell_type": "code",
   "execution_count": null,
   "metadata": {},
   "outputs": [],
   "source": [
    "import os\n",
    "import subprocess\n",
    "import pandas as pd\n",
    "import seaborn as sns\n",
    "import matplotlib.pyplot as plt"
   ]
  },
  {
   "cell_type": "code",
   "execution_count": null,
   "metadata": {},
   "outputs": [],
   "source": [
    "IMAGES_DIR = './images/input'\n",
    "RESULTS_DIR = './results'\n",
    "NUMBER_OF_ITERATIONS = 1\n",
    "IMAGE_DPI = 300\n",
    "\n",
    "number_of_images = len([name for name in os.listdir(IMAGES_DIR) if os.path.isfile(os.path.join(IMAGES_DIR, name))])"
   ]
  },
  {
   "cell_type": "code",
   "execution_count": null,
   "metadata": {},
   "outputs": [],
   "source": [
    "for file in os.listdir('results'):\n",
    "    if file.endswith('.txt'):\n",
    "        os.remove(f'results/{file}')"
   ]
  },
  {
   "cell_type": "code",
   "execution_count": null,
   "metadata": {},
   "outputs": [],
   "source": [
    "scripts = ['./ffmpeg.sh', './graphicsmagick.sh', './imagemagick.sh', './libvips.sh', './pillow.py', './opencv.py']\n",
    "\n",
    "for script in scripts:\n",
    "    for _ in range(NUMBER_OF_ITERATIONS):\n",
    "        # get the file extension\n",
    "        _, ext = os.path.splitext(script)\n",
    "        # run python files with python3\n",
    "        if ext == '.py':\n",
    "            subprocess.run(['python3', script])\n",
    "        # run shell scripts directly\n",
    "        elif ext == '.sh':\n",
    "            subprocess.run(['bash', '-c', script])"
   ]
  },
  {
   "cell_type": "code",
   "execution_count": null,
   "metadata": {},
   "outputs": [],
   "source": [
    "tool_scores = {}\n",
    "tool_durations = {}\n",
    "\n",
    "for file in os.listdir('results'):\n",
    "    if file.endswith('.txt'):\n",
    "        df = pd.read_csv(f'results/{file}', header=None, names=['operation', 'time', 'file_size', 'original_file_size'])\n",
    "        tool_name = file.replace('-results.txt', '')\n",
    "\n",
    "        tool_scores[tool_name] = {}\n",
    "        tool_durations[tool_name] = {}\n",
    "\n",
    "        for operation in df['operation'].unique():\n",
    "            selected_records = df[df['operation'] == operation]\n",
    "            # Calculate the score using the adjusted file size, the original file size, and the duration.\n",
    "            tool_scores[tool_name][operation] = (100 * selected_records['file_size'] / selected_records['original_file_size'] * selected_records['time']).values\n",
    "            tool_durations[tool_name][operation] = selected_records['time']"
   ]
  },
  {
   "cell_type": "code",
   "execution_count": null,
   "metadata": {},
   "outputs": [],
   "source": [
    "sns.set_theme()\n",
    "colors = sns.color_palette('mako', len(tool_scores))\n",
    "\n",
    "operations = ['crop', 'compress', 'resize', 'convert']\n",
    "for operation in operations:\n",
    "    fig, ax = plt.subplots(dpi=IMAGE_DPI)\n",
    "\n",
    "    tool_names = tool_scores.keys()\n",
    "    data = [tool_scores[tool_name][operation] for tool_name in tool_names]\n",
    "\n",
    "    ax.boxplot(data, labels=tool_names, patch_artist=True, boxprops=dict(facecolor='lightgray'), vert=False)\n",
    "    ax.set_xlabel('Cost (lower is better)')\n",
    "    ax.set_title(f'{operation.capitalize()} operation - Processing cost')\n",
    "\n",
    "plt.show()"
   ]
  },
  {
   "cell_type": "code",
   "execution_count": null,
   "metadata": {},
   "outputs": [],
   "source": [
    "sns.set_theme()\n",
    "colors = sns.color_palette('mako', len(tool_scores))\n",
    "\n",
    "operations = ['crop', 'compress', 'resize', 'convert']\n",
    "for operation in operations:\n",
    "    fig, ax = plt.subplots(dpi=IMAGE_DPI)\n",
    "    bar_width = 1\n",
    "    tool_names = tool_scores.keys()\n",
    "\n",
    "    for i, (tool_name, results) in enumerate(tool_scores.items()):\n",
    "        number_of_images = len(tool_scores[tool_name])\n",
    "        average_duration_in_ms = sum(results[operation]) / number_of_images\n",
    "        ax.barh(i, average_duration_in_ms, bar_width, label=tool_name, color=colors[i])\n",
    "        \n",
    "    ax.set_xlabel('Average cost (lower is better)')\n",
    "    ax.set_title(f'{operation.capitalize()} operation - Average processing cost')\n",
    "    index = range(len(tool_scores))\n",
    "    ax.set_yticks(index)\n",
    "    yticklabels = ax.set_yticklabels(tool_scores.keys())\n",
    "\n",
    "    average_scores = [(tool, 100 * sum(results[operation]) / number_of_images) for tool, results in tool_scores.items()]\n",
    "    min_time_tool, min_time = min(average_scores, key=lambda item: item[1])\n",
    "\n",
    "    for label in yticklabels:\n",
    "        if label.get_text() == min_time_tool:\n",
    "            label.set_color('green')\n",
    "    \n",
    "    plt.show()"
   ]
  },
  {
   "cell_type": "code",
   "execution_count": null,
   "metadata": {},
   "outputs": [],
   "source": [
    "sns.set_theme()\n",
    "colors = sns.color_palette('mako', len(tool_durations))\n",
    "\n",
    "operations = ['crop', 'compress', 'resize', 'convert']\n",
    "for operation in operations:\n",
    "    fig, ax = plt.subplots(dpi=IMAGE_DPI)\n",
    "    fig.set_size_inches(8, 6)\n",
    "\n",
    "    tool_names = tool_durations.keys()\n",
    "    data = [tool_durations[tool_name][operation] for tool_name in tool_names]\n",
    "\n",
    "    ax.boxplot(data, labels=tool_names, patch_artist=True, boxprops=dict(facecolor='lightgray'), vert=False)\n",
    "    ax.set_xlabel('Score (lower is better)')\n",
    "    ax.set_title(f'{operation.capitalize()} operation - Processing durations')\n",
    "\n",
    "    plt.show()"
   ]
  },
  {
   "cell_type": "code",
   "execution_count": null,
   "metadata": {},
   "outputs": [],
   "source": [
    "sns.set_theme()\n",
    "colors = sns.color_palette('mako', len(tool_durations))\n",
    "\n",
    "operations = ['crop', 'compress', 'resize', 'convert']\n",
    "for operation in operations:\n",
    "    fig, ax = plt.subplots(dpi=IMAGE_DPI)\n",
    "    bar_width = 1\n",
    "    tool_names = tool_durations.keys()\n",
    "\n",
    "    for i, (tool_name, results) in enumerate(tool_durations.items()):\n",
    "        number_of_images = len(tool_durations[tool_name])\n",
    "        average_duration_in_ms = 1000 * sum(results[operation]) / number_of_images\n",
    "        ax.barh(i, average_duration_in_ms, bar_width, label=tool_name, color=colors[i])\n",
    "        \n",
    "    ax.set_xlabel('ms (lower is better)')\n",
    "    ax.set_title(f'Average duration for {operation.capitalize()} operation')\n",
    "    index = range(len(tool_durations))\n",
    "    ax.set_yticks(index)\n",
    "    yticklabels = ax.set_yticklabels(tool_durations.keys())\n",
    "\n",
    "    average_durations = [(tool, sum(results[operation]) / number_of_images) for tool, results in tool_durations.items()]\n",
    "    min_time_tool, min_time = min(average_durations, key=lambda item: item[1])\n",
    "\n",
    "    for label in yticklabels:\n",
    "        if label.get_text() == min_time_tool:\n",
    "            label.set_color('green')\n",
    "    \n",
    "    plt.show()"
   ]
  }
 ],
 "metadata": {
  "kernelspec": {
   "display_name": "Python 3",
   "language": "python",
   "name": "python3"
  },
  "language_info": {
   "codemirror_mode": {
    "name": "ipython",
    "version": 3
   },
   "file_extension": ".py",
   "mimetype": "text/x-python",
   "name": "python",
   "nbconvert_exporter": "python",
   "pygments_lexer": "ipython3",
   "version": "3.11.7"
  }
 },
 "nbformat": 4,
 "nbformat_minor": 2
}
