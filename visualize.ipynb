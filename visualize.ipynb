{
 "cells": [
  {
   "cell_type": "code",
   "execution_count": null,
   "metadata": {},
   "outputs": [],
   "source": [
    "import os\n",
    "import pandas as pd\n",
    "import seaborn as sns\n",
    "import matplotlib.pyplot as plt"
   ]
  },
  {
   "cell_type": "markdown",
   "metadata": {},
   "source": [
    "Clear results directory"
   ]
  },
  {
   "cell_type": "code",
   "execution_count": null,
   "metadata": {},
   "outputs": [],
   "source": [
    "# remove results/results.csv if it exists\n",
    "if os.path.exists('results/results.csv'):\n",
    "    os.remove('results/results.csv')"
   ]
  },
  {
   "cell_type": "markdown",
   "metadata": {},
   "source": [
    "Clear output images"
   ]
  },
  {
   "cell_type": "code",
   "execution_count": null,
   "metadata": {},
   "outputs": [],
   "source": [
    "for file in os.listdir('images/output'):\n",
    "    if file.endswith(('.png', '.jpg', '.jpeg', '.webp')):\n",
    "        os.remove(f'images/output/{file}')"
   ]
  },
  {
   "cell_type": "code",
   "execution_count": null,
   "metadata": {},
   "outputs": [],
   "source": [
    "!./simple.sh"
   ]
  },
  {
   "cell_type": "markdown",
   "metadata": {},
   "source": [
    "# Visualizations"
   ]
  },
  {
   "cell_type": "code",
   "execution_count": null,
   "metadata": {},
   "outputs": [],
   "source": [
    "df = pd.read_csv(\n",
    "    f'results/results.csv',\n",
    "    header=None,\n",
    "    names=[\n",
    "        'tool',\n",
    "        'file_name',\n",
    "        'original_file_format',\n",
    "        'original_file_size',\n",
    "        'operation',\n",
    "        'new_file_format',\n",
    "        'duration_in_seconds',\n",
    "        'new_file_size'\n",
    "    ]\n",
    ")"
   ]
  },
  {
   "cell_type": "code",
   "execution_count": null,
   "metadata": {},
   "outputs": [],
   "source": [
    "df['relative_file_size'] = df['new_file_size'] / df['original_file_size']\n",
    "df['cost'] = 100 * df['relative_file_size'] * df['duration_in_seconds']\n",
    "df['duration_in_ms'] = df['duration_in_seconds'] * 1000"
   ]
  },
  {
   "cell_type": "code",
   "execution_count": null,
   "metadata": {},
   "outputs": [],
   "source": [
    "IMAGE_DPI = 200\n",
    "\n",
    "sns.set_theme()\n",
    "tools = df['tool'].unique()\n",
    "colors = sns.color_palette('mako', len(tools))\n",
    "operations = df['operation'].unique()"
   ]
  },
  {
   "cell_type": "markdown",
   "metadata": {},
   "source": [
    "## Cost findings"
   ]
  },
  {
   "cell_type": "code",
   "execution_count": null,
   "metadata": {},
   "outputs": [],
   "source": [
    "for operation in operations:\n",
    "    fig = plt.figure(dpi=IMAGE_DPI)\n",
    "    average_costs = df[df['operation'] == operation].groupby('tool')['cost'].mean().sort_values(ascending=False)\n",
    "    new_colors = sns.color_palette('mako', len(average_costs))\n",
    "    plt.barh(average_costs.index, average_costs, color=new_colors)\n",
    "    plt.title(f'{operation.capitalize()} operation - Cost')\n",
    "    plt.xlabel('Cost')\n",
    "    plt.show()"
   ]
  },
  {
   "cell_type": "markdown",
   "metadata": {},
   "source": [
    "## Duration findings"
   ]
  },
  {
   "cell_type": "code",
   "execution_count": null,
   "metadata": {},
   "outputs": [],
   "source": [
    "for operation in operations:\n",
    "    fig, ax = plt.subplots(dpi=IMAGE_DPI)\n",
    "\n",
    "    # Group the data by tool and calculate the median duration for each tool.\n",
    "    grouped_data = df[df['operation'] == operation].groupby('tool')['duration_in_ms']\n",
    "    medians = grouped_data.median().sort_values(ascending=False)\n",
    "\n",
    "    # Sort the data by the median duration.\n",
    "    data = [grouped_data.get_group(tool).values for tool in medians.index]\n",
    "\n",
    "    ax.boxplot(data, labels=medians.index, patch_artist=True, boxprops=dict(facecolor='#3e3e3e'), vert=False)\n",
    "    ax.set_xlabel('ms (lower is better)')\n",
    "    ax.set_title(f'{operation.capitalize()} operation - Duration')\n",
    "\n",
    "plt.show()"
   ]
  },
  {
   "cell_type": "markdown",
   "metadata": {},
   "source": [
    "## File size findings"
   ]
  },
  {
   "cell_type": "code",
   "execution_count": null,
   "metadata": {},
   "outputs": [],
   "source": [
    "for operation in operations:\n",
    "    fig, ax = plt.subplots(dpi=IMAGE_DPI)\n",
    "\n",
    "    # Group the data by tool and calculate the median relative file size for each tool.\n",
    "    grouped_data = df[df['operation'] == operation].groupby('tool')['relative_file_size']\n",
    "    medians = grouped_data.median().sort_values(ascending=False)\n",
    "\n",
    "    # Sort the data by the median relative file size.\n",
    "    data = [grouped_data.get_group(tool).values for tool in medians.index]\n",
    "\n",
    "    ax.boxplot(data, labels=medians.index, patch_artist=True, boxprops=dict(facecolor='#3e3e3e'), vert=False)\n",
    "    ax.set_xlabel('Relative file size (lower is better)')\n",
    "    ax.set_title(f'{operation.capitalize()} operation - Relative file size')\n",
    "\n",
    "plt.show()"
   ]
  },
  {
   "cell_type": "code",
   "execution_count": null,
   "metadata": {},
   "outputs": [],
   "source": [
    "for operation in operations:\n",
    "    fig, ax = plt.subplots(dpi=IMAGE_DPI)\n",
    "\n",
    "    # Group the data by tool and calculate the median relative file size for each tool.\n",
    "    grouped_data = df[df['operation'] == operation].groupby('tool')['relative_file_size']\n",
    "    medians = grouped_data.median().sort_values(ascending=False)\n",
    "\n",
    "    # Sort the data by the median relative file size.\n",
    "    data = [grouped_data.get_group(tool).values for tool in medians.index]\n",
    "\n",
    "    ax.boxplot(data, labels=medians.index, patch_artist=True, boxprops=dict(facecolor='#3e3e3e'), vert=False)\n",
    "    ax.set_xlabel('Relative file size (lower is better)')\n",
    "    ax.set_title(f'{operation.capitalize()} operation - Relative file size')\n",
    "\n",
    "plt.show()"
   ]
  }
 ],
 "metadata": {
  "kernelspec": {
   "display_name": "Python 3",
   "language": "python",
   "name": "python3"
  },
  "language_info": {
   "codemirror_mode": {
    "name": "ipython",
    "version": 3
   },
   "file_extension": ".py",
   "mimetype": "text/x-python",
   "name": "python",
   "nbconvert_exporter": "python",
   "pygments_lexer": "ipython3",
   "version": "3.11.7"
  }
 },
 "nbformat": 4,
 "nbformat_minor": 2
}
