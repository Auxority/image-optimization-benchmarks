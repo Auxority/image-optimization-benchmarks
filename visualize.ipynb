{
 "cells": [
  {
   "cell_type": "code",
   "execution_count": null,
   "metadata": {},
   "outputs": [],
   "source": [
    "import os\n",
    "import subprocess\n",
    "import seaborn as sns\n",
    "import matplotlib.pyplot as plt"
   ]
  },
  {
   "cell_type": "code",
   "execution_count": null,
   "metadata": {},
   "outputs": [],
   "source": [
    "IMAGES_DIR = './images/input'\n",
    "RESULTS_DIR = './results'\n",
    "NUMBER_OF_ITERATIONS = 1\n",
    "\n",
    "number_of_images = len([name for name in os.listdir(IMAGES_DIR) if os.path.isfile(os.path.join(IMAGES_DIR, name))])"
   ]
  },
  {
   "cell_type": "code",
   "execution_count": null,
   "metadata": {},
   "outputs": [],
   "source": [
    "for file in os.listdir('results'):\n",
    "    if file.endswith('.txt'):\n",
    "        os.remove(f'results/{file}')"
   ]
  },
  {
   "cell_type": "code",
   "execution_count": null,
   "metadata": {},
   "outputs": [],
   "source": [
    "scripts = ['./ffmpeg.sh', './graphicsmagick.sh', './imagemagick.sh', './libvips.sh', './pillow.py', './opencv.py']\n",
    "\n",
    "for script in scripts:\n",
    "    for _ in range(NUMBER_OF_ITERATIONS):\n",
    "        # get the file extension\n",
    "        _, ext = os.path.splitext(script)\n",
    "        # run python files with python3\n",
    "        if ext == '.py':\n",
    "            subprocess.run(['python3', script])\n",
    "        # run shell scripts directly\n",
    "        elif ext == '.sh':\n",
    "            subprocess.run(['bash', '-c', script])"
   ]
  },
  {
   "cell_type": "code",
   "execution_count": null,
   "metadata": {},
   "outputs": [],
   "source": [
    "tool_results = {}\n",
    "\n",
    "# List all files in the results directory\n",
    "files = os.listdir(RESULTS_DIR)\n",
    "\n",
    "# Read each file and extract the time values for each operation\n",
    "for file in files:\n",
    "    file_path = os.path.join(RESULTS_DIR, file)\n",
    "    tool_name = os.path.splitext(file)[0]\n",
    "    if 'readme' in tool_name:\n",
    "        continue\n",
    "\n",
    "    tool_name = tool_name.replace('-results', '')\n",
    "    tool_results[tool_name] = {}\n",
    "\n",
    "    with open(file_path, 'r') as f:\n",
    "        lines = f.readlines()\n",
    "\n",
    "        crop_times = [float(time) for time in lines[:number_of_images]]\n",
    "        compress_times = [float(time) for time in lines[number_of_images:2 * number_of_images]]\n",
    "        resize_times = [float(time) for time in lines[2 * number_of_images:3 * number_of_images]]\n",
    "        convert_times = [float(time) for time in lines[3 * number_of_images:4 * number_of_images]]\n",
    "\n",
    "        tool_results[tool_name]['crop'] = crop_times\n",
    "        tool_results[tool_name]['compress'] = compress_times\n",
    "        tool_results[tool_name]['resize'] = resize_times\n",
    "        tool_results[tool_name]['convert'] = convert_times"
   ]
  },
  {
   "cell_type": "code",
   "execution_count": null,
   "metadata": {},
   "outputs": [],
   "source": [
    "# create separate plots for each operation\n",
    "operations = ['crop', 'compress', 'resize', 'convert']\n",
    "for operation in operations:\n",
    "    fig, ax = plt.subplots()\n",
    "    bar_width = 1\n",
    "    index = range(len(tool_results))\n",
    "    sns.set()\n",
    "    colors = sns.color_palette('mako', len(tool_results))\n",
    "    times = [(tool, sum(results[operation]) / number_of_images) for tool, results in tool_results.items()]\n",
    "    min_time_tool, min_time = min(times, key=lambda item: item[1])\n",
    "    for i, (tool, results) in enumerate(tool_results.items()):\n",
    "        time_in_ms = 1000 * sum(results[operation]) / number_of_images\n",
    "        ax.barh(i, time_in_ms, bar_width, label=tool, color=colors[i])\n",
    "\n",
    "    ax.set_xlabel('Time (ms)')\n",
    "    ax.set_title(f'Average time taken for {operation.capitalize()} operation')\n",
    "    ax.set_yticks(index)\n",
    "    yticklabels = ax.set_yticklabels(tool_results.keys())\n",
    "\n",
    "    # change the color of the y-tick label that corresponds to the tool with the lowest time\n",
    "    for label in yticklabels:\n",
    "        if label.get_text() == min_time_tool:\n",
    "            label.set_color('green')\n",
    "\n",
    "    plt.show()"
   ]
  }
 ],
 "metadata": {
  "kernelspec": {
   "display_name": "Python 3",
   "language": "python",
   "name": "python3"
  },
  "language_info": {
   "codemirror_mode": {
    "name": "ipython",
    "version": 3
   },
   "file_extension": ".py",
   "mimetype": "text/x-python",
   "name": "python",
   "nbconvert_exporter": "python",
   "pygments_lexer": "ipython3",
   "version": "3.11.7"
  }
 },
 "nbformat": 4,
 "nbformat_minor": 2
}
